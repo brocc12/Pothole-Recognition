{
 "cells": [
  {
   "cell_type": "markdown",
   "id": "4b008544",
   "metadata": {},
   "source": [
    "## Pothole EDA\n",
    "\n",
    "IIT Goa Pothole Detection & Classification Dataset\n",
    "\n",
    "Comprehensive Road Pothole Detection and Threat Level Assessment Dataset."
   ]
  },
  {
   "cell_type": "code",
   "execution_count": 1,
   "id": "e17946da",
   "metadata": {},
   "outputs": [],
   "source": [
    "import pandas as pd\n",
    "import os\n",
    "import cv2\n",
    "import matplotlib.pyplot as plt\n",
    "import numpy as np\n",
    "import pandas as pd\n",
    "import seaborn as sns\n",
    "import matplotlib.pyplot as plt\n",
    "from sklearn.model_selection import train_test_split\n",
    "from sklearn.metrics import confusion_matrix, classification_report\n",
    "import tensorflow as tf\n",
    "from tensorflow.keras.utils import to_categorical\n",
    "from tensorflow import keras\n",
    "from tensorflow.keras import layers\n",
    "from tensorflow.keras.models import Sequential\n",
    "from tensorflow.keras.layers import Conv2D, MaxPooling2D, Flatten, Dense, Dropout, GlobalAveragePooling2D, BatchNormalization\n",
    "from tensorflow.keras.optimizers import Adam\n",
    "from tensorflow.keras.metrics import F1Score"
   ]
  },
  {
   "cell_type": "code",
   "execution_count": 2,
   "id": "e2a47451",
   "metadata": {},
   "outputs": [],
   "source": [
    "# # Load the original CIFAR-10 dataset\n",
    "# (x_train, y_train), (x_test, y_test) = tf.keras.datasets.cifar10.load_data()\n",
    "\n",
    "# # Choose positive and negative classes (e.g., \"airplane\" and \"automobile\")\n",
    "# positive_class = 0  # \"airplane\" class\n",
    "# negative_class = 1  # \"automobile\" class\n",
    "\n",
    "# # Filter the dataset for the selected classes\n",
    "# positive_indices = np.where(y_train == positive_class)[0]\n",
    "# negative_indices = np.where(y_train == negative_class)[0] k-oj\n",
    "\n",
    "# selected_indices = np.concatenate((positive_indices, negative_indices))\n",
    "# x_binary_train = x_train[selected_indices]\n",
    "# y_binary_train = np.where(y_train[selected_indices] == positive_class, 1, 0)\n",
    "\n",
    "# # Data preprocessing and splitting (you can adjust this as needed)\n",
    "# x_binary_train = x_binary_train / 255.0  # Normalize pixel values\n",
    "# x_binary_test = x_test / 255.0\n",
    "\n",
    "# # Choose positive and negative classes for the test set\n",
    "# positive_test_indices = np.where(y_test == positive_class)[0]\n",
    "# negative_test_indices = np.where(y_test == negative_class)[0]\n",
    "\n",
    "# # Combine the test indices for positive and negative classes\n",
    "# selected_test_indices = np.concatenate((positive_test_indices, negative_test_indices))\n",
    "\n",
    "# # Create binary y_binary_test values for the selected test indices\n",
    "# y_binary_test = np.where(y_test[selected_test_indices] == positive_class, 1, 0)\n",
    "\n",
    "# \"\"\"\n",
    "# # Split data into training and testing sets\n",
    "# train_dataset = tf.data.Dataset.from_tensor_slices((x_binary_train, y_binary_train)).shuffle(len(x_binary_train)).batch(batch_size)\n",
    "# test_dataset = tf.data.Dataset.from_tensor_slices((x_binary_test, y_test)).batch(batch_size)\n",
    "# \"\"\""
   ]
  },
  {
   "cell_type": "code",
   "execution_count": 3,
   "id": "fa7e745f",
   "metadata": {},
   "outputs": [],
   "source": [
    "# Specify the path to your CSV file and image folder\n",
    "image_folder = r'C:\\Users\\beast\\Documents\\Flatiron\\Pothole-Recognition\\pothole-dataset\\Unified Dataset\\Unified Dataset\\\\'\n",
    "image_folder = image_folder[:-1]\n",
    "csv_file = r'C:\\Users\\beast\\Documents\\Flatiron\\Pothole-Recognition\\pothole-dataset\\Dataset_Info.csv'"
   ]
  },
  {
   "cell_type": "code",
   "execution_count": 4,
   "id": "dadab615",
   "metadata": {},
   "outputs": [],
   "source": [
    "df = pd.read_csv(csv_file).drop(['Unnamed: 4'],axis=1)\n",
    "file_paths = df[\"Image ID\"]"
   ]
  },
  {
   "cell_type": "code",
   "execution_count": 39,
   "id": "d8c4c367",
   "metadata": {},
   "outputs": [
    {
     "data": {
      "text/html": [
       "<div>\n",
       "<style scoped>\n",
       "    .dataframe tbody tr th:only-of-type {\n",
       "        vertical-align: middle;\n",
       "    }\n",
       "\n",
       "    .dataframe tbody tr th {\n",
       "        vertical-align: top;\n",
       "    }\n",
       "\n",
       "    .dataframe thead th {\n",
       "        text-align: right;\n",
       "    }\n",
       "</style>\n",
       "<table border=\"1\" class=\"dataframe\">\n",
       "  <thead>\n",
       "    <tr style=\"text-align: right;\">\n",
       "      <th></th>\n",
       "      <th>Image ID</th>\n",
       "      <th>Pothole</th>\n",
       "      <th>Number of Potholes</th>\n",
       "      <th>Level</th>\n",
       "    </tr>\n",
       "  </thead>\n",
       "  <tbody>\n",
       "    <tr>\n",
       "      <th>0</th>\n",
       "      <td>pothole_image_10064</td>\n",
       "      <td>1</td>\n",
       "      <td>1</td>\n",
       "      <td>A</td>\n",
       "    </tr>\n",
       "    <tr>\n",
       "      <th>1</th>\n",
       "      <td>pothole_image_10079</td>\n",
       "      <td>1</td>\n",
       "      <td>1</td>\n",
       "      <td>A</td>\n",
       "    </tr>\n",
       "    <tr>\n",
       "      <th>2</th>\n",
       "      <td>pothole_image_10084</td>\n",
       "      <td>1</td>\n",
       "      <td>1</td>\n",
       "      <td>A</td>\n",
       "    </tr>\n",
       "    <tr>\n",
       "      <th>3</th>\n",
       "      <td>pothole_image_10087</td>\n",
       "      <td>1</td>\n",
       "      <td>2</td>\n",
       "      <td>A</td>\n",
       "    </tr>\n",
       "    <tr>\n",
       "      <th>4</th>\n",
       "      <td>pothole_image_10110</td>\n",
       "      <td>1</td>\n",
       "      <td>1</td>\n",
       "      <td>A</td>\n",
       "    </tr>\n",
       "    <tr>\n",
       "      <th>...</th>\n",
       "      <td>...</td>\n",
       "      <td>...</td>\n",
       "      <td>...</td>\n",
       "      <td>...</td>\n",
       "    </tr>\n",
       "    <tr>\n",
       "      <th>29994</th>\n",
       "      <td>pothole_image_9990</td>\n",
       "      <td>1</td>\n",
       "      <td>2</td>\n",
       "      <td>S</td>\n",
       "    </tr>\n",
       "    <tr>\n",
       "      <th>29995</th>\n",
       "      <td>pothole_image_9992</td>\n",
       "      <td>1</td>\n",
       "      <td>1</td>\n",
       "      <td>S</td>\n",
       "    </tr>\n",
       "    <tr>\n",
       "      <th>29996</th>\n",
       "      <td>pothole_image_9993</td>\n",
       "      <td>1</td>\n",
       "      <td>1</td>\n",
       "      <td>S</td>\n",
       "    </tr>\n",
       "    <tr>\n",
       "      <th>29997</th>\n",
       "      <td>pothole_image_9996</td>\n",
       "      <td>1</td>\n",
       "      <td>2</td>\n",
       "      <td>S</td>\n",
       "    </tr>\n",
       "    <tr>\n",
       "      <th>29998</th>\n",
       "      <td>pothole_image_9997</td>\n",
       "      <td>1</td>\n",
       "      <td>2</td>\n",
       "      <td>S</td>\n",
       "    </tr>\n",
       "  </tbody>\n",
       "</table>\n",
       "<p>29999 rows × 4 columns</p>\n",
       "</div>"
      ],
      "text/plain": [
       "                  Image ID  Pothole  Number of Potholes Level\n",
       "0      pothole_image_10064        1                   1     A\n",
       "1      pothole_image_10079        1                   1     A\n",
       "2      pothole_image_10084        1                   1     A\n",
       "3      pothole_image_10087        1                   2     A\n",
       "4      pothole_image_10110        1                   1     A\n",
       "...                    ...      ...                 ...   ...\n",
       "29994   pothole_image_9990        1                   2     S\n",
       "29995   pothole_image_9992        1                   1     S\n",
       "29996   pothole_image_9993        1                   1     S\n",
       "29997   pothole_image_9996        1                   2     S\n",
       "29998   pothole_image_9997        1                   2     S\n",
       "\n",
       "[29999 rows x 4 columns]"
      ]
     },
     "execution_count": 39,
     "metadata": {},
     "output_type": "execute_result"
    }
   ],
   "source": [
    "df"
   ]
  },
  {
   "cell_type": "code",
   "execution_count": 6,
   "id": "c6fc48c2",
   "metadata": {},
   "outputs": [],
   "source": [
    "# Preprocess Data Function\n",
    "def preprocess_data(data_folder, csv_file, image_size, test_size=0.2, random_seed=42):\n",
    "    # Step 1: Read the CSV file\n",
    "    data = pd.read_csv(csv_file)\n",
    "\n",
    "    # Step 2: Filter rows with pothole labels 0 or 1\n",
    "    data = data[data['Pothole'].isin([0, 1])]\n",
    "\n",
    "    # Step 3: Load and preprocess images using TensorFlow\n",
    "    images = []\n",
    "    labels = []\n",
    "\n",
    "    for _, row in data.iterrows():\n",
    "        image_path = os.path.join(data_folder, row['Image ID'] + '.jpg')\n",
    "        image = tf.io.read_file(image_path)\n",
    "        image = tf.image.decode_image(image, channels=3)  # Ensure 3 color channels\n",
    "        image = tf.image.resize(image, image_size)\n",
    "        image = tf.image.convert_image_dtype(image, tf.float32)\n",
    "        images.append(image)\n",
    "\n",
    "        labels.append(row['Pothole'])\n",
    "\n",
    "    # Step 4: Convert the list of TensorFlow tensors to NumPy arrays\n",
    "    images = np.array(images)\n",
    "    labels = np.array(labels)\n",
    "\n",
    "    # Step 5: Split the data into training and test sets using NumPy arrays\n",
    "    X_train, X_test, y_train, y_test = train_test_split(images, labels, test_size=test_size, random_state=random_seed)\n",
    "\n",
    "    return X_train, X_test, y_train, y_test\n",
    "\n",
    "# Usage example:\n",
    "image_size = (128, 128)  # You can adjust the image size as needed\n",
    "X_train, X_test, y_train, y_test = preprocess_data(image_folder, csv_file, image_size)"
   ]
  },
  {
   "cell_type": "code",
   "execution_count": null,
   "id": "568bb1b1",
   "metadata": {},
   "outputs": [],
   "source": []
  },
  {
   "cell_type": "code",
   "execution_count": 7,
   "id": "015d9d39",
   "metadata": {},
   "outputs": [],
   "source": [
    "train_dataset = tf.data.Dataset.from_tensor_slices((X_train, y_train))\n",
    "test_dataset = tf.data.Dataset.from_tensor_slices((X_test, y_test))"
   ]
  },
  {
   "cell_type": "code",
   "execution_count": 8,
   "id": "d26f4195",
   "metadata": {},
   "outputs": [],
   "source": [
    "# Batch the Testing Dataset\n",
    "BATCH_SIZE = 32  # You can adjust this batch size as needed\n",
    "test_dataset = test_dataset.batch(BATCH_SIZE)\n",
    "train_dataset = train_dataset.batch(BATCH_SIZE)"
   ]
  },
  {
   "cell_type": "code",
   "execution_count": 9,
   "id": "8a9dc521",
   "metadata": {},
   "outputs": [],
   "source": [
    "# Create a simple model with the appropriate input shape to unsure our data will fit into a model\n",
    "model1 = Sequential([\n",
    "    Conv2D(32, (3, 3), activation='relu', input_shape=(128, 128, 3)),\n",
    "    MaxPooling2D((2, 2)),\n",
    "    Conv2D(64, (3, 3), activation='relu'),\n",
    "    Flatten(),\n",
    "    Dense(64, activation='relu'),\n",
    "    Dense(1, activation='sigmoid')  # Binary classification output\n",
    "])\n",
    "\n",
    "# Compile the model\n",
    "model1.compile(optimizer='adam', loss='binary_crossentropy', metrics=['accuracy'])\n"
   ]
  },
  {
   "cell_type": "code",
   "execution_count": 10,
   "id": "78ed1bc5",
   "metadata": {},
   "outputs": [
    {
     "name": "stdout",
     "output_type": "stream",
     "text": [
      "Epoch 1/5\n",
      "750/750 [==============================] - 405s 531ms/step - loss: 9.9280 - accuracy: 0.8109\n",
      "Epoch 2/5\n",
      "750/750 [==============================] - 393s 523ms/step - loss: 0.2697 - accuracy: 0.8912\n",
      "Epoch 3/5\n",
      "750/750 [==============================] - 378s 504ms/step - loss: 0.1828 - accuracy: 0.9284\n",
      "Epoch 4/5\n",
      "750/750 [==============================] - 375s 500ms/step - loss: 0.1682 - accuracy: 0.9350\n",
      "Epoch 5/5\n",
      "750/750 [==============================] - 374s 499ms/step - loss: 0.1379 - accuracy: 0.9505\n"
     ]
    },
    {
     "data": {
      "text/plain": [
       "<keras.src.callbacks.History at 0x1da67e7e010>"
      ]
     },
     "execution_count": 10,
     "metadata": {},
     "output_type": "execute_result"
    }
   ],
   "source": [
    "model1.fit(train_dataset, epochs = 5)"
   ]
  },
  {
   "cell_type": "code",
   "execution_count": 11,
   "id": "b5c20057",
   "metadata": {},
   "outputs": [
    {
     "name": "stdout",
     "output_type": "stream",
     "text": [
      "188/188 [==============================] - 24s 122ms/step\n"
     ]
    },
    {
     "data": {
      "image/png": "[encoded data removed]",
      "text/plain": [
       "<Figure size 600x600 with 2 Axes>"
      ]
     },
     "metadata": {},
     "output_type": "display_data"
    }
   ],
   "source": [
    "binary_preds  = np.round(model1.predict(test_dataset))\n",
    "cm = confusion_matrix(y_test, binary_preds)\n",
    "\n",
    "# Create a heatmap using Seaborn\n",
    "sns.set(font_scale=1.2)  # Adjust font size for better readability\n",
    "plt.figure(figsize=(6, 6))  # Set the size of the plot\n",
    "sns.heatmap(cm, annot=True, fmt='d', cmap='Blues', square=True,\n",
    "            xticklabels=['Non-Pothole', 'Pothole'], yticklabels=['Non-Pothole', 'Pothole'])\n",
    "\n",
    "# Add labels and title\n",
    "plt.xlabel('Predicted')\n",
    "plt.ylabel('Actual')\n",
    "plt.title('Confusion Matrix')\n",
    "\n",
    "# Display the plot\n",
    "plt.show()"
   ]
  },
  {
   "cell_type": "code",
   "execution_count": 28,
   "id": "c3bf58b4",
   "metadata": {},
   "outputs": [
    {
     "name": "stdout",
     "output_type": "stream",
     "text": [
      "Model: \"sequential_4\"\n",
      "_________________________________________________________________\n",
      " Layer (type)                Output Shape              Param #   \n",
      "=================================================================\n",
      " rescaling_3 (Rescaling)     (None, 128, 128, 3)       0         \n",
      "                                                                 \n",
      " conv2d_15 (Conv2D)          (None, 126, 126, 32)      896       \n",
      "                                                                 \n",
      " batch_normalization_6 (Bat  (None, 126, 126, 32)      128       \n",
      " chNormalization)                                                \n",
      "                                                                 \n",
      " conv2d_16 (Conv2D)          (None, 124, 124, 32)      9248      \n",
      "                                                                 \n",
      " max_pooling2d_7 (MaxPoolin  (None, 62, 62, 32)        0         \n",
      " g2D)                                                            \n",
      "                                                                 \n",
      " dropout_8 (Dropout)         (None, 62, 62, 32)        0         \n",
      "                                                                 \n",
      " conv2d_17 (Conv2D)          (None, 60, 60, 64)        18496     \n",
      "                                                                 \n",
      " batch_normalization_7 (Bat  (None, 60, 60, 64)        256       \n",
      " chNormalization)                                                \n",
      "                                                                 \n",
      " conv2d_18 (Conv2D)          (None, 58, 58, 64)        36928     \n",
      "                                                                 \n",
      " max_pooling2d_8 (MaxPoolin  (None, 29, 29, 64)        0         \n",
      " g2D)                                                            \n",
      "                                                                 \n",
      " dropout_9 (Dropout)         (None, 29, 29, 64)        0         \n",
      "                                                                 \n",
      " conv2d_19 (Conv2D)          (None, 27, 27, 128)       73856     \n",
      "                                                                 \n",
      " batch_normalization_8 (Bat  (None, 27, 27, 128)       512       \n",
      " chNormalization)                                                \n",
      "                                                                 \n",
      " conv2d_20 (Conv2D)          (None, 25, 25, 128)       147584    \n",
      "                                                                 \n",
      " max_pooling2d_9 (MaxPoolin  (None, 12, 12, 128)       0         \n",
      " g2D)                                                            \n",
      "                                                                 \n",
      " dropout_10 (Dropout)        (None, 12, 12, 128)       0         \n",
      "                                                                 \n",
      " flatten_3 (Flatten)         (None, 18432)             0         \n",
      "                                                                 \n",
      " dense_6 (Dense)             (None, 512)               9437696   \n",
      "                                                                 \n",
      " dropout_11 (Dropout)        (None, 512)               0         \n",
      "                                                                 \n",
      " dense_7 (Dense)             (None, 1)                 513       \n",
      "                                                                 \n",
      "=================================================================\n",
      "Total params: 9726113 (37.10 MB)\n",
      "Trainable params: 9725665 (37.10 MB)\n",
      "Non-trainable params: 448 (1.75 KB)\n",
      "_________________________________________________________________\n"
     ]
    }
   ],
   "source": [
    "def create_cnn_model(input_shape, learning_rate=0.001, num_filters=32):\n",
    "    model = Sequential()\n",
    "\n",
    "    # Add a standardization layer to scale input features (image pixels)\n",
    "    model.add(tf.keras.layers.experimental.preprocessing.Rescaling(1.0 / 255, input_shape=input_shape))\n",
    "\n",
    "    # Convolutional Layer 1\n",
    "    model.add(Conv2D(num_filters, kernel_size=(3, 3), activation='relu'))\n",
    "    model.add(BatchNormalization())\n",
    "    model.add(Conv2D(num_filters, kernel_size=(3, 3), activation='relu'))\n",
    "    model.add(MaxPooling2D(pool_size=(2, 2)))\n",
    "    model.add(Dropout(0.25))\n",
    "\n",
    "    # Convolutional Layer 2\n",
    "    model.add(Conv2D(num_filters * 2, kernel_size=(3, 3), activation='relu'))\n",
    "    model.add(BatchNormalization())\n",
    "    modeladd(Conv2D(num_filters * 2, kernel_size=(3, 3), activation='relu'))\n",
    "    model.add(MaxPooling2D(pool_size=(2, 2)))\n",
    "    model.add(Dropout(0.25))\n",
    "\n",
    "    # Convolutional Layer 3\n",
    "    model.add(Conv2D(num_filters * 4, kernel_size=(3, 3), activation='relu'))\n",
    "    model.add(BatchNormalization())\n",
    "    model.add(Conv2D(num_filters * 4, kernel_size=(3, 3), activation='relu'))\n",
    "    model.add(MaxPooling2D(pool_size=(2, 2)))\n",
    "    model.add(Dropout(0.25))\n",
    "\n",
    "    # Fully Connected Layer\n",
    "    model.add(Flatten())\n",
    "    model.add(Dense(512, activation='relu'))\n",
    "    model.add(Dropout(0.5))\n",
    "\n",
    "    # Output Layer for Binary Classification\n",
    "    model.add(Dense(1, activation='sigmoid'))\n",
    "\n",
    "    # Compile the model with binary cross-entropy for binary classification\n",
    "    model.compile(\n",
    "        optimizer=Adam(learning_rate=learning_rate),\n",
    "        loss='binary_crossentropy',\n",
    "        metrics=['accuracy']\n",
    "    )\n",
    "\n",
    "    return model\n",
    "\n",
    "# Example usage:\n",
    "input_shape = (128, 128, 3)  # 3 for RGB\n",
    "\n",
    "model = create_cnn_model(input_shape)\n",
    "model.summary()\n"
   ]
  },
  {
   "cell_type": "code",
   "execution_count": 25,
   "id": "f2bb7eb3",
   "metadata": {},
   "outputs": [
    {
     "name": "stdout",
     "output_type": "stream",
     "text": [
      "Epoch 1/10\n",
      "750/750 [==============================] - 1416s 2s/step - loss: 0.6785 - accuracy: 0.8522\n",
      "Epoch 2/10\n",
      "750/750 [==============================] - 1440s 2s/step - loss: 0.3117 - accuracy: 0.8884\n",
      "Epoch 3/10\n",
      "750/750 [==============================] - 1451s 2s/step - loss: 0.2855 - accuracy: 0.8990\n",
      "Epoch 4/10\n",
      "750/750 [==============================] - 1411s 2s/step - loss: 0.2778 - accuracy: 0.9021\n",
      "Epoch 5/10\n",
      "750/750 [==============================] - 1425s 2s/step - loss: 0.2600 - accuracy: 0.9051\n",
      "Epoch 6/10\n",
      "750/750 [==============================] - 1521s 2s/step - loss: 0.2512 - accuracy: 0.9090\n",
      "Epoch 7/10\n",
      "750/750 [==============================] - 1568s 2s/step - loss: 0.2412 - accuracy: 0.9097\n",
      "Epoch 8/10\n",
      "750/750 [==============================] - 1401s 2s/step - loss: 0.2320 - accuracy: 0.9146\n",
      "Epoch 9/10\n",
      "750/750 [==============================] - 1368s 2s/step - loss: 0.2224 - accuracy: 0.9176\n",
      "Epoch 10/10\n",
      "750/750 [==============================] - 1385s 2s/step - loss: 0.2129 - accuracy: 0.9166\n"
     ]
    },
    {
     "data": {
      "text/plain": [
       "<keras.src.callbacks.History at 0x1de5a2532d0>"
      ]
     },
     "execution_count": 25,
     "metadata": {},
     "output_type": "execute_result"
    }
   ],
   "source": [
    "model.fit(train_dataset, epochs = 10)"
   ]
  },
  {
   "cell_type": "code",
   "execution_count": 26,
   "id": "59a093f0",
   "metadata": {},
   "outputs": [
    {
     "name": "stdout",
     "output_type": "stream",
     "text": [
      "188/188 [==============================] - 76s 403ms/step\n"
     ]
    }
   ],
   "source": [
    "preds = np.round(model.predict(test_dataset))"
   ]
  },
  {
   "cell_type": "code",
   "execution_count": 27,
   "id": "43e18a1d",
   "metadata": {},
   "outputs": [
    {
     "data": {
      "image/png": "[encoded data removed]",
      "text/plain": [
       "<Figure size 600x600 with 2 Axes>"
      ]
     },
     "metadata": {},
     "output_type": "display_data"
    }
   ],
   "source": [
    "cm = confusion_matrix(y_test, preds)\n",
    "\n",
    "# Create a heatmap using Seaborn\n",
    "sns.set(font_scale=1.2)  # Adjust font size for better readability\n",
    "plt.figure(figsize=(6, 6))  # Set the size of the plot\n",
    "sns.heatmap(cm, annot=True, fmt='d', cmap='Blues', square=True,\n",
    "            xticklabels=['Non-Pothole', 'Pothole'], yticklabels=['Non-Pothole', 'Pothole'])\n",
    "\n",
    "# Add labels and title\n",
    "plt.xlabel('Predicted')\n",
    "plt.ylabel('Actual')\n",
    "plt.title('Confusion Matrix')\n",
    "\n",
    "# Display the plot\n",
    "plt.show()"
   ]
  },
  {
   "cell_type": "code",
   "execution_count": 30,
   "id": "4431de6f",
   "metadata": {},
   "outputs": [],
   "source": [
    "# Preprocess Data Function\n",
    "def preprocess_data(data_folder, csv_file, image_size, test_size=0.2, random_seed=42):\n",
    "    # Step 1: Read the CSV file\n",
    "    data = pd.read_csv(csv_file)\n",
    "\n",
    "    # Step 2: Filter rows with pothole labels 0 or 1\n",
    "    data = data[data['Number of Potholes'] < 4]\n",
    "\n",
    "\n",
    "    # Step 3: Load and preprocess images using TensorFlow\n",
    "    images = []\n",
    "    labels = []\n",
    "\n",
    "    for _, row in data.iterrows():\n",
    "        image_path = os.path.join(data_folder, row['Image ID'] + '.jpg')\n",
    "        image = tf.io.read_file(image_path)\n",
    "        image = tf.image.decode_image(image, channels=3)  # Ensure 3 color channels\n",
    "        image = tf.image.resize(image, image_size)\n",
    "        image = tf.image.convert_image_dtype(image, tf.float32)\n",
    "        images.append(image)\n",
    "\n",
    "        labels.append(row['Number of Potholes'])\n",
    "\n",
    "    # Step 4: Convert the list of TensorFlow tensors to NumPy arrays\n",
    "    images = np.array(images)\n",
    "    labels = np.array(labels)\n",
    "\n",
    "    # Step 5: Split the data into training and test sets using NumPy arrays\n",
    "    X_train, X_test, y_train, y_test = train_test_split(images, labels, test_size=test_size, random_state=random_seed)\n",
    "\n",
    "    return X_train, X_test, y_train, y_test\n",
    "\n",
    "# Usage example:\n",
    "image_size = (32, 32)  # You can adjust the image size as needed\n",
    "X_train_multiclass, X_test_multiclass, y_train_multiclass, y_test_multiclass = preprocess_data(image_folder, csv_file, image_size)"
   ]
  },
  {
   "cell_type": "code",
   "execution_count": 31,
   "id": "39f7fd6b",
   "metadata": {},
   "outputs": [],
   "source": [
    "y_train_encoded = to_categorical(y_train_multiclass, num_classes=4)\n"
   ]
  },
  {
   "cell_type": "code",
   "execution_count": 32,
   "id": "ea309a8b",
   "metadata": {},
   "outputs": [],
   "source": [
    "model = Sequential([\n",
    "    Conv2D(32, (3, 3), activation='relu', input_shape=(32, 32, 3)),\n",
    "    MaxPooling2D((2, 2)),\n",
    "    Conv2D(64, (3, 3), activation='relu'),\n",
    "    Flatten(),\n",
    "    Dense(64, activation='relu'),\n",
    "    Dense(4, activation='softmax')  # 4 output units for 4 classes, 'softmax' activation\n",
    "])\n",
    "\n",
    "# Compile the model with appropriate settings for multiclass classification\n",
    "model.compile(optimizer='adam', loss='categorical_crossentropy', metrics=['accuracy'])\n"
   ]
  },
  {
   "cell_type": "code",
   "execution_count": 33,
   "id": "2f9f112e",
   "metadata": {},
   "outputs": [
    {
     "name": "stdout",
     "output_type": "stream",
     "text": [
      "Epoch 1/15\n",
      "737/737 [==============================] - 38s 47ms/step - loss: 1.3152 - accuracy: 0.7839\n",
      "Epoch 2/15\n",
      "737/737 [==============================] - 40s 54ms/step - loss: 0.5476 - accuracy: 0.8160\n",
      "Epoch 3/15\n",
      "737/737 [==============================] - 40s 54ms/step - loss: 0.4943 - accuracy: 0.8336\n",
      "Epoch 4/15\n",
      "737/737 [==============================] - 40s 55ms/step - loss: 0.4412 - accuracy: 0.8521\n",
      "Epoch 5/15\n",
      "737/737 [==============================] - 40s 54ms/step - loss: 0.4107 - accuracy: 0.8639\n",
      "Epoch 6/15\n",
      "737/737 [==============================] - 40s 55ms/step - loss: 0.3810 - accuracy: 0.8728\n",
      "Epoch 7/15\n",
      "737/737 [==============================] - 40s 54ms/step - loss: 0.3292 - accuracy: 0.8868\n",
      "Epoch 8/15\n",
      "737/737 [==============================] - 40s 54ms/step - loss: 0.2987 - accuracy: 0.8977\n",
      "Epoch 9/15\n",
      "737/737 [==============================] - 41s 56ms/step - loss: 0.2707 - accuracy: 0.9041\n",
      "Epoch 10/15\n",
      "737/737 [==============================] - 40s 55ms/step - loss: 0.2525 - accuracy: 0.9135\n",
      "Epoch 11/15\n",
      "737/737 [==============================] - 40s 54ms/step - loss: 0.2229 - accuracy: 0.9221\n",
      "Epoch 12/15\n",
      "737/737 [==============================] - 40s 55ms/step - loss: 0.1913 - accuracy: 0.9336\n",
      "Epoch 13/15\n",
      "737/737 [==============================] - 40s 55ms/step - loss: 0.1780 - accuracy: 0.9386\n",
      "Epoch 14/15\n",
      "737/737 [==============================] - 40s 54ms/step - loss: 0.1623 - accuracy: 0.9409\n",
      "Epoch 15/15\n",
      "737/737 [==============================] - 40s 55ms/step - loss: 0.1632 - accuracy: 0.9434\n"
     ]
    },
    {
     "data": {
      "text/plain": [
       "<keras.src.callbacks.History at 0x2573a96f610>"
      ]
     },
     "execution_count": 33,
     "metadata": {},
     "output_type": "execute_result"
    }
   ],
   "source": [
    "model.fit(X_train_multiclass, y_train_encoded, epochs = 15)"
   ]
  },
  {
   "cell_type": "code",
   "execution_count": 34,
   "id": "31942d16",
   "metadata": {},
   "outputs": [
    {
     "name": "stdout",
     "output_type": "stream",
     "text": [
      "185/185 [==============================] - 3s 16ms/step\n"
     ]
    }
   ],
   "source": [
    "# Get class labels as integers\n",
    "preds = np.argmax(model.predict(X_test_multiclass), axis=1)\n"
   ]
  },
  {
   "cell_type": "code",
   "execution_count": 35,
   "id": "36e600d3",
   "metadata": {},
   "outputs": [
    {
     "data": {
      "image/png": "[encoded data removed]",
      "text/plain": [
       "<Figure size 600x600 with 2 Axes>"
      ]
     },
     "metadata": {},
     "output_type": "display_data"
    }
   ],
   "source": [
    "cm = confusion_matrix(y_test_multiclass, preds)\n",
    "\n",
    "# Create a heatmap using Seaborn\n",
    "sns.set(font_scale=1.2)  # Adjust font size for better readability\n",
    "plt.figure(figsize=(6, 6))  # Set the size of the plot\n",
    "sns.heatmap(cm, annot=True, fmt='d', cmap='Blues', square=True,\n",
    "            xticklabels=['Non-Pothole', 'Pothole'], yticklabels=['Non-Pothole', 'Pothole'])\n",
    "\n",
    "# Add labels and title\n",
    "plt.xlabel('Predicted')\n",
    "plt.ylabel('Actual')\n",
    "plt.title('Confusion Matrix')\n",
    "\n",
    "# Display the plot\n",
    "plt.show()"
   ]
  },
  {
   "cell_type": "code",
   "execution_count": null,
   "id": "a0ed4042",
   "metadata": {},
   "outputs": [],
   "source": []
  }
 ],
 "metadata": {
  "kernelspec": {
   "display_name": "Training Wheels",
   "language": "python",
   "name": "training_wheels"
  },
  "language_info": {
   "codemirror_mode": {
    "name": "ipython",
    "version": 3
   },
   "file_extension": ".py",
   "mimetype": "text/x-python",
   "name": "python",
   "nbconvert_exporter": "python",
   "pygments_lexer": "ipython3",
   "version": "3.11.3"
  }
 },
 "nbformat": 4,
 "nbformat_minor": 5
}
