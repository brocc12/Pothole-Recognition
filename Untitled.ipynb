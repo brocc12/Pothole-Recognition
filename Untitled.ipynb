{
 "cells": [
  {
   "cell_type": "markdown",
   "id": "4b008544",
   "metadata": {},
   "source": [
    "## Pothole EDA\n",
    "\n",
    "IIT Goa Pothole Detection & Classification Dataset\n",
    "\n",
    "Comprehensive Road Pothole Detection and Threat Level Assessment Dataset."
   ]
  },
  {
   "cell_type": "code",
   "execution_count": 55,
   "id": "e17946da",
   "metadata": {},
   "outputs": [],
   "source": [
    "import pandas as pd\n",
    "import os\n",
    "import cv2\n",
    "import matplotlib.pyplot as plt\n",
    "import numpy as np\n",
    "import pandas as pd\n",
    "import seaborn as sns\n",
    "import matplotlib.pyplot as plt\n",
    "from datetime import datetime, timedelta\n",
    "from tensorflow.keras.metrics import Metric,AUC\n",
    "from sklearn.metrics import accuracy_score, precision_score as Precision, recall_score, f1_score,roc_auc_score, auc, roc_curve\n",
    "from sklearn.model_selection import train_test_split\n",
    "from sklearn.metrics import confusion_matrix, classification_report\n",
    "from tensorflow.keras.preprocessing.image import ImageDataGenerator\n",
    "from scikeras.wrappers import KerasClassifier, KerasRegressor\n",
    "import tensorflow as tf\n",
    "from tensorflow.keras.utils import to_categorical\n",
    "from tensorflow import keras\n",
    "from sklearn.model_selection import GridSearchCV\n",
    "from sklearn.metrics import make_scorer, recall_score\n",
    "from tensorflow.keras import layers\n",
    "from tensorflow.keras.models import Sequential\n",
    "from tensorflow.keras.layers import Conv2D, MaxPooling2D, Flatten, Dense, Dropout, GlobalAveragePooling2D, BatchNormalization\n",
    "from tensorflow.keras.optimizers import Adam\n",
    "from tensorflow.keras.metrics import F1Score"
   ]
  },
  {
   "cell_type": "code",
   "execution_count": 2,
   "id": "fa7e745f",
   "metadata": {},
   "outputs": [],
   "source": [
    "# Specify the path to your CSV file and image folder\n",
    "image_folder = r'C:\\Users\\Broc\\Documents\\FLatiron\\Pothole-Recognition\\Unified Dataset\\Unified Dataset\\\\'\n",
    "image_folder = image_folder[:-1]\n",
    "csv_file = r'C:\\Users\\Broc\\Documents\\FLatiron\\Pothole-Recognition\\Dataset_Info.csv'"
   ]
  },
  {
   "cell_type": "code",
   "execution_count": 3,
   "id": "dadab615",
   "metadata": {},
   "outputs": [],
   "source": [
    "df = pd.read_csv(csv_file).drop(['Unnamed: 4'],axis=1)\n",
    "file_paths = df[\"Image ID\"]"
   ]
  },
  {
   "cell_type": "code",
   "execution_count": 4,
   "id": "d8c4c367",
   "metadata": {},
   "outputs": [
    {
     "data": {
      "text/html": [
       "<div>\n",
       "<style scoped>\n",
       "    .dataframe tbody tr th:only-of-type {\n",
       "        vertical-align: middle;\n",
       "    }\n",
       "\n",
       "    .dataframe tbody tr th {\n",
       "        vertical-align: top;\n",
       "    }\n",
       "\n",
       "    .dataframe thead th {\n",
       "        text-align: right;\n",
       "    }\n",
       "</style>\n",
       "<table border=\"1\" class=\"dataframe\">\n",
       "  <thead>\n",
       "    <tr style=\"text-align: right;\">\n",
       "      <th></th>\n",
       "      <th>Image ID</th>\n",
       "      <th>Pothole</th>\n",
       "      <th>Number of Potholes</th>\n",
       "      <th>Level</th>\n",
       "    </tr>\n",
       "  </thead>\n",
       "  <tbody>\n",
       "    <tr>\n",
       "      <th>0</th>\n",
       "      <td>pothole_image_1299</td>\n",
       "      <td>1</td>\n",
       "      <td>3</td>\n",
       "      <td>B</td>\n",
       "    </tr>\n",
       "    <tr>\n",
       "      <th>1</th>\n",
       "      <td>pothole_image_10064</td>\n",
       "      <td>1</td>\n",
       "      <td>1</td>\n",
       "      <td>A</td>\n",
       "    </tr>\n",
       "    <tr>\n",
       "      <th>2</th>\n",
       "      <td>pothole_image_10079</td>\n",
       "      <td>1</td>\n",
       "      <td>1</td>\n",
       "      <td>A</td>\n",
       "    </tr>\n",
       "    <tr>\n",
       "      <th>3</th>\n",
       "      <td>pothole_image_10084</td>\n",
       "      <td>1</td>\n",
       "      <td>1</td>\n",
       "      <td>A</td>\n",
       "    </tr>\n",
       "    <tr>\n",
       "      <th>4</th>\n",
       "      <td>pothole_image_10087</td>\n",
       "      <td>1</td>\n",
       "      <td>2</td>\n",
       "      <td>A</td>\n",
       "    </tr>\n",
       "    <tr>\n",
       "      <th>...</th>\n",
       "      <td>...</td>\n",
       "      <td>...</td>\n",
       "      <td>...</td>\n",
       "      <td>...</td>\n",
       "    </tr>\n",
       "    <tr>\n",
       "      <th>29995</th>\n",
       "      <td>pothole_image_9990</td>\n",
       "      <td>1</td>\n",
       "      <td>2</td>\n",
       "      <td>S</td>\n",
       "    </tr>\n",
       "    <tr>\n",
       "      <th>29996</th>\n",
       "      <td>pothole_image_9992</td>\n",
       "      <td>1</td>\n",
       "      <td>1</td>\n",
       "      <td>S</td>\n",
       "    </tr>\n",
       "    <tr>\n",
       "      <th>29997</th>\n",
       "      <td>pothole_image_9993</td>\n",
       "      <td>1</td>\n",
       "      <td>1</td>\n",
       "      <td>S</td>\n",
       "    </tr>\n",
       "    <tr>\n",
       "      <th>29998</th>\n",
       "      <td>pothole_image_9996</td>\n",
       "      <td>1</td>\n",
       "      <td>2</td>\n",
       "      <td>S</td>\n",
       "    </tr>\n",
       "    <tr>\n",
       "      <th>29999</th>\n",
       "      <td>pothole_image_9997</td>\n",
       "      <td>1</td>\n",
       "      <td>2</td>\n",
       "      <td>S</td>\n",
       "    </tr>\n",
       "  </tbody>\n",
       "</table>\n",
       "<p>30000 rows × 4 columns</p>\n",
       "</div>"
      ],
      "text/plain": [
       "                  Image ID  Pothole  Number of Potholes Level\n",
       "0       pothole_image_1299        1                   3     B\n",
       "1      pothole_image_10064        1                   1     A\n",
       "2      pothole_image_10079        1                   1     A\n",
       "3      pothole_image_10084        1                   1     A\n",
       "4      pothole_image_10087        1                   2     A\n",
       "...                    ...      ...                 ...   ...\n",
       "29995   pothole_image_9990        1                   2     S\n",
       "29996   pothole_image_9992        1                   1     S\n",
       "29997   pothole_image_9993        1                   1     S\n",
       "29998   pothole_image_9996        1                   2     S\n",
       "29999   pothole_image_9997        1                   2     S\n",
       "\n",
       "[30000 rows x 4 columns]"
      ]
     },
     "execution_count": 4,
     "metadata": {},
     "output_type": "execute_result"
    }
   ],
   "source": [
    "df"
   ]
  },
  {
   "cell_type": "code",
   "execution_count": 6,
   "id": "c6fc48c2",
   "metadata": {},
   "outputs": [],
   "source": [
    "# Preprocess Data Function\n",
    "def preprocess_data(data_folder, csv_file, image_size, test_size=0.2, random_seed=42):\n",
    "    # Step 1: Read the CSV file\n",
    "    data = pd.read_csv(csv_file)\n",
    "\n",
    "    # Step 2: Filter rows with pothole labels 0 or 1\n",
    "    data = data[data['Pothole'].isin([0, 1])]\n",
    "\n",
    "    # Step 3: Load and preprocess images using TensorFlow\n",
    "    images = []\n",
    "    labels = []\n",
    "\n",
    "    for _, row in data.iterrows():\n",
    "        image_path = os.path.join(data_folder, row['Image ID'] + '.jpg')\n",
    "        image = tf.io.read_file(image_path)\n",
    "        image = tf.image.decode_image(image, channels=3)  # Ensure 3 color channels\n",
    "        image = tf.image.resize(image, image_size)\n",
    "        image = tf.image.convert_image_dtype(image, tf.float32)\n",
    "        images.append(image)\n",
    "\n",
    "        labels.append(row['Pothole'])\n",
    "\n",
    "    # Step 4: Convert the list of TensorFlow tensors to NumPy arrays\n",
    "    images = np.array(images)\n",
    "    labels = np.array(labels)\n",
    "\n",
    "    # Step 5: Split the data into training and test sets using NumPy arrays\n",
    "    X_train, X_test, y_train, y_test = train_test_split(images, labels, test_size=test_size, random_state=random_seed)\n",
    "\n",
    "    return X_train, X_test, y_train, y_test\n",
    "\n",
    "# Usage example:\n",
    "image_size = (128, 128)  # You can adjust the image size as needed\n",
    "X_train, X_test, y_train, y_test = preprocess_data(image_folder, csv_file, image_size)"
   ]
  },
  {
   "cell_type": "code",
   "execution_count": 7,
   "id": "015d9d39",
   "metadata": {},
   "outputs": [],
   "source": [
    "train_dataset = tf.data.Dataset.from_tensor_slices((X_train, y_train))\n",
    "test_dataset = tf.data.Dataset.from_tensor_slices((X_test, y_test))"
   ]
  },
  {
   "cell_type": "code",
   "execution_count": null,
   "id": "b5f497db",
   "metadata": {},
   "outputs": [],
   "source": [
    "# Batch the Testing Dataset\n",
    "BATCH_SIZE = 32  # You can adjust this batch size as needed\n",
    "test_dataset = test_dataset.batch(BATCH_SIZE)\n",
    "train_dataset = train_dataset.batch(BATCH_SIZE)"
   ]
  },
  {
   "cell_type": "markdown",
   "id": "0b3e688e",
   "metadata": {},
   "source": [
    "## Scoring Metrics\n",
    "In our binary image classification project, opting for accuracy as our primary evaluation metric makes sense for a few key reasons. Accuracy gives us a clear and intuitive understanding of how well our model is performing by indicating the percentage of correctly predicted instances over the total predictions. This simplicity is valuable, especially when communicating results to stakeholders"
   ]
  },
  {
   "cell_type": "code",
   "execution_count": 9,
   "id": "8a9dc521",
   "metadata": {},
   "outputs": [],
   "source": [
    "# Create a simple model with the appropriate input shape to unsure our data will fit into a model\n",
    "model1 = Sequential([\n",
    "    Conv2D(32, (3, 3), activation='relu', input_shape=(128, 128, 3)),\n",
    "    MaxPooling2D((2, 2)),\n",
    "    Conv2D(64, (3, 3), activation='relu'),\n",
    "    Flatten(),\n",
    "    Dense(64, activation='relu'),\n",
    "    Dense(1, activation='sigmoid')  # Binary classification output\n",
    "])\n",
    "\n",
    "# Compile the model\n",
    "model1.compile(optimizer='adam', loss='binary_crossentropy', metrics=['accuracy'])\n"
   ]
  },
  {
   "cell_type": "code",
   "execution_count": 10,
   "id": "78ed1bc5",
   "metadata": {},
   "outputs": [
    {
     "name": "stdout",
     "output_type": "stream",
     "text": [
      "Epoch 1/5\n",
      "750/750 [==============================] - 405s 531ms/step - loss: 9.9280 - accuracy: 0.8109\n",
      "Epoch 2/5\n",
      "750/750 [==============================] - 393s 523ms/step - loss: 0.2697 - accuracy: 0.8912\n",
      "Epoch 3/5\n",
      "750/750 [==============================] - 378s 504ms/step - loss: 0.1828 - accuracy: 0.9284\n",
      "Epoch 4/5\n",
      "750/750 [==============================] - 375s 500ms/step - loss: 0.1682 - accuracy: 0.9350\n",
      "Epoch 5/5\n",
      "750/750 [==============================] - 374s 499ms/step - loss: 0.1379 - accuracy: 0.9505\n"
     ]
    },
    {
     "data": {
      "text/plain": [
       "<keras.src.callbacks.History at 0x1da67e7e010>"
      ]
     },
     "execution_count": 10,
     "metadata": {},
     "output_type": "execute_result"
    }
   ],
   "source": [
    "model1.fit(train_dataset, epochs = 5)"
   ]
  },
  {
   "cell_type": "code",
   "execution_count": 11,
   "id": "b5c20057",
   "metadata": {},
   "outputs": [
    {
     "name": "stdout",
     "output_type": "stream",
     "text": [
      "188/188 [==============================] - 24s 122ms/step\n"
     ]
    },
    {
     "data": {
      "image/png": "[encoded data removed]",
      "text/plain": [
       "<Figure size 600x600 with 2 Axes>"
      ]
     },
     "metadata": {},
     "output_type": "display_data"
    }
   ],
   "source": [
    "binary_preds  = np.round(model1.predict(test_dataset))\n",
    "cm = confusion_matrix(y_test, binary_preds)\n",
    "\n",
    "# Create a heatmap using Seaborn\n",
    "sns.set(font_scale=1.2)  # Adjust font size for better readability\n",
    "plt.figure(figsize=(6, 6))  # Set the size of the plot\n",
    "sns.heatmap(cm, annot=True, fmt='d', cmap='Blues', square=True,\n",
    "            xticklabels=['Non-Pothole', 'Pothole'], yticklabels=['Non-Pothole', 'Pothole'])\n",
    "\n",
    "# Add labels and title\n",
    "plt.xlabel('Predicted')\n",
    "plt.ylabel('Actual')\n",
    "plt.title('Confusion Matrix')\n",
    "\n",
    "# Display the plot\n",
    "plt.show()"
   ]
  },
  {
   "cell_type": "code",
   "execution_count": 28,
   "id": "c3bf58b4",
   "metadata": {},
   "outputs": [
    {
     "name": "stdout",
     "output_type": "stream",
     "text": [
      "Model: \"sequential_4\"\n",
      "_________________________________________________________________\n",
      " Layer (type)                Output Shape              Param #   \n",
      "=================================================================\n",
      " rescaling_3 (Rescaling)     (None, 128, 128, 3)       0         \n",
      "                                                                 \n",
      " conv2d_15 (Conv2D)          (None, 126, 126, 32)      896       \n",
      "                                                                 \n",
      " batch_normalization_6 (Bat  (None, 126, 126, 32)      128       \n",
      " chNormalization)                                                \n",
      "                                                                 \n",
      " conv2d_16 (Conv2D)          (None, 124, 124, 32)      9248      \n",
      "                                                                 \n",
      " max_pooling2d_7 (MaxPoolin  (None, 62, 62, 32)        0         \n",
      " g2D)                                                            \n",
      "                                                                 \n",
      " dropout_8 (Dropout)         (None, 62, 62, 32)        0         \n",
      "                                                                 \n",
      " conv2d_17 (Conv2D)          (None, 60, 60, 64)        18496     \n",
      "                                                                 \n",
      " batch_normalization_7 (Bat  (None, 60, 60, 64)        256       \n",
      " chNormalization)                                                \n",
      "                                                                 \n",
      " conv2d_18 (Conv2D)          (None, 58, 58, 64)        36928     \n",
      "                                                                 \n",
      " max_pooling2d_8 (MaxPoolin  (None, 29, 29, 64)        0         \n",
      " g2D)                                                            \n",
      "                                                                 \n",
      " dropout_9 (Dropout)         (None, 29, 29, 64)        0         \n",
      "                                                                 \n",
      " conv2d_19 (Conv2D)          (None, 27, 27, 128)       73856     \n",
      "                                                                 \n",
      " batch_normalization_8 (Bat  (None, 27, 27, 128)       512       \n",
      " chNormalization)                                                \n",
      "                                                                 \n",
      " conv2d_20 (Conv2D)          (None, 25, 25, 128)       147584    \n",
      "                                                                 \n",
      " max_pooling2d_9 (MaxPoolin  (None, 12, 12, 128)       0         \n",
      " g2D)                                                            \n",
      "                                                                 \n",
      " dropout_10 (Dropout)        (None, 12, 12, 128)       0         \n",
      "                                                                 \n",
      " flatten_3 (Flatten)         (None, 18432)             0         \n",
      "                                                                 \n",
      " dense_6 (Dense)             (None, 512)               9437696   \n",
      "                                                                 \n",
      " dropout_11 (Dropout)        (None, 512)               0         \n",
      "                                                                 \n",
      " dense_7 (Dense)             (None, 1)                 513       \n",
      "                                                                 \n",
      "=================================================================\n",
      "Total params: 9726113 (37.10 MB)\n",
      "Trainable params: 9725665 (37.10 MB)\n",
      "Non-trainable params: 448 (1.75 KB)\n",
      "_________________________________________________________________\n"
     ]
    }
   ],
   "source": [
    "def create_cnn_model(input_shape, learning_rate=0.001, num_filters=32):\n",
    "    model = Sequential()\n",
    "\n",
    "    # Add a standardization layer to scale input features (image pixels)\n",
    "    model.add(tf.keras.layers.experimental.preprocessing.Rescaling(1.0 / 255, input_shape=input_shape))\n",
    "\n",
    "    # Convolutional Layer 1\n",
    "    model.add(Conv2D(num_filters, kernel_size=(3, 3), activation='relu'))\n",
    "    model.add(BatchNormalization())\n",
    "    model.add(Conv2D(num_filters, kernel_size=(3, 3), activation='relu'))\n",
    "    model.add(MaxPooling2D(pool_size=(2, 2)))\n",
    "    model.add(Dropout(0.25))\n",
    "\n",
    "    # Convolutional Layer 2\n",
    "    model.add(Conv2D(num_filters * 2, kernel_size=(3, 3), activation='relu'))\n",
    "    model.add(BatchNormalization())\n",
    "    modeladd(Conv2D(num_filters * 2, kernel_size=(3, 3), activation='relu'))\n",
    "    model.add(MaxPooling2D(pool_size=(2, 2)))\n",
    "    model.add(Dropout(0.25))\n",
    "\n",
    "    # Convolutional Layer 3\n",
    "    model.add(Conv2D(num_filters * 4, kernel_size=(3, 3), activation='relu'))\n",
    "    model.add(BatchNormalization())\n",
    "    model.add(Conv2D(num_filters * 4, kernel_size=(3, 3), activation='relu'))\n",
    "    model.add(MaxPooling2D(pool_size=(2, 2)))\n",
    "    model.add(Dropout(0.25))\n",
    "\n",
    "    # Fully Connected Layer\n",
    "    model.add(Flatten())\n",
    "    model.add(Dense(512, activation='relu'))\n",
    "    model.add(Dropout(0.5))\n",
    "\n",
    "    # Output Layer for Binary Classification\n",
    "    model.add(Dense(1, activation='sigmoid'))\n",
    "\n",
    "    # Compile the model with binary cross-entropy for binary classification\n",
    "    model.compile(\n",
    "        optimizer=Adam(learning_rate=learning_rate),\n",
    "        loss='binary_crossentropy',\n",
    "        metrics=['accuracy']\n",
    "    )\n",
    "\n",
    "    return model\n",
    "\n",
    "# Example usage:\n",
    "input_shape = (128, 128, 3)  # 3 for RGB\n",
    "\n",
    "model2 = create_cnn_model(input_shape)\n",
    "model2.summary()\n"
   ]
  },
  {
   "cell_type": "code",
   "execution_count": 25,
   "id": "f2bb7eb3",
   "metadata": {},
   "outputs": [
    {
     "name": "stdout",
     "output_type": "stream",
     "text": [
      "Epoch 1/10\n",
      "750/750 [==============================] - 1416s 2s/step - loss: 0.6785 - accuracy: 0.8522\n",
      "Epoch 2/10\n",
      "750/750 [==============================] - 1440s 2s/step - loss: 0.3117 - accuracy: 0.8884\n",
      "Epoch 3/10\n",
      "750/750 [==============================] - 1451s 2s/step - loss: 0.2855 - accuracy: 0.8990\n",
      "Epoch 4/10\n",
      "750/750 [==============================] - 1411s 2s/step - loss: 0.2778 - accuracy: 0.9021\n",
      "Epoch 5/10\n",
      "750/750 [==============================] - 1425s 2s/step - loss: 0.2600 - accuracy: 0.9051\n",
      "Epoch 6/10\n",
      "750/750 [==============================] - 1521s 2s/step - loss: 0.2512 - accuracy: 0.9090\n",
      "Epoch 7/10\n",
      "750/750 [==============================] - 1568s 2s/step - loss: 0.2412 - accuracy: 0.9097\n",
      "Epoch 8/10\n",
      "750/750 [==============================] - 1401s 2s/step - loss: 0.2320 - accuracy: 0.9146\n",
      "Epoch 9/10\n",
      "750/750 [==============================] - 1368s 2s/step - loss: 0.2224 - accuracy: 0.9176\n",
      "Epoch 10/10\n",
      "750/750 [==============================] - 1385s 2s/step - loss: 0.2129 - accuracy: 0.9166\n"
     ]
    },
    {
     "data": {
      "text/plain": [
       "<keras.src.callbacks.History at 0x1de5a2532d0>"
      ]
     },
     "execution_count": 25,
     "metadata": {},
     "output_type": "execute_result"
    }
   ],
   "source": [
    "model2.fit(train_dataset, epochs = 10)"
   ]
  },
  {
   "cell_type": "code",
   "execution_count": 26,
   "id": "59a093f0",
   "metadata": {},
   "outputs": [
    {
     "name": "stdout",
     "output_type": "stream",
     "text": [
      "188/188 [==============================] - 76s 403ms/step\n"
     ]
    }
   ],
   "source": [
    "preds2 = np.round(model.predict(test_dataset))"
   ]
  },
  {
   "cell_type": "code",
   "execution_count": 27,
   "id": "43e18a1d",
   "metadata": {},
   "outputs": [
    {
     "data": {
      "image/png": "[encoded data removed]",
      "text/plain": [
       "<Figure size 600x600 with 2 Axes>"
      ]
     },
     "metadata": {},
     "output_type": "display_data"
    }
   ],
   "source": [
    "cm = confusion_matrix(y_test, preds2)\n",
    "\n",
    "# Create a heatmap using Seaborn\n",
    "sns.set(font_scale=1.2)  # Adjust font size for better readability\n",
    "plt.figure(figsize=(6, 6))  # Set the size of the plot\n",
    "sns.heatmap(cm, annot=True, fmt='d', cmap='Blues', square=True,\n",
    "            xticklabels=['Non-Pothole', 'Pothole'], yticklabels=['Non-Pothole', 'Pothole'])\n",
    "\n",
    "# Add labels and title\n",
    "plt.xlabel('Predicted')\n",
    "plt.ylabel('Actual')\n",
    "plt.title('Confusion Matrix')\n",
    "\n",
    "# Display the plot\n",
    "plt.show()"
   ]
  },
  {
   "cell_type": "code",
   "execution_count": 5,
   "id": "4431de6f",
   "metadata": {},
   "outputs": [],
   "source": [
    "# Preprocess Data Function\n",
    "def preprocess_data(data_folder, csv_file, image_size, test_size=0.2, random_seed=42):\n",
    "    # Step 1: Read the CSV file\n",
    "    data = pd.read_csv(csv_file)\n",
    "\n",
    "    # Step 2: Filter rows with pothole labels 0 or 1\n",
    "    data = data[data['Number of Potholes'] < 4]\n",
    "\n",
    "\n",
    "    # Step 3: Load and preprocess images using TensorFlow\n",
    "    images = []\n",
    "    labels = []\n",
    "\n",
    "    for _, row in data.iterrows():\n",
    "        image_path = os.path.join(data_folder, row['Image ID'] + '.jpg')\n",
    "        image = tf.io.read_file(image_path)\n",
    "        image = tf.image.decode_image(image, channels=3)  # Ensure 3 color channels\n",
    "        image = tf.image.resize(image, image_size)\n",
    "        image = tf.image.convert_image_dtype(image, tf.float32)\n",
    "        images.append(image)\n",
    "\n",
    "        labels.append(row['Number of Potholes'])\n",
    "\n",
    "    # Step 4: Convert the list of TensorFlow tensors to NumPy arrays\n",
    "    images = np.array(images)\n",
    "    labels = np.array(labels)\n",
    "\n",
    "    # Step 5: Split the data into training and test sets using NumPy arrays\n",
    "    X_train, X_test, y_train, y_test = train_test_split(images, labels, test_size=test_size, random_state=random_seed)\n",
    "\n",
    "    return X_train, X_test, y_train, y_test\n",
    "\n",
    "# Usage example:\n",
    "image_size = (32, 32)  # You can adjust the image size as needed\n",
    "X_train_multiclass, X_test_multiclass, y_train_multiclass, y_test_multiclass = preprocess_data(image_folder, csv_file, image_size)"
   ]
  },
  {
   "cell_type": "code",
   "execution_count": 6,
   "id": "39f7fd6b",
   "metadata": {},
   "outputs": [],
   "source": [
    "y_train_encoded = to_categorical(y_train_multiclass, num_classes=4)\n",
    "train_multiclass = tf.data.Dataset.from_tensor_slices((X_train_multiclass, y_train_encoded))\n",
    "test_multiclass = tf.data.Dataset.from_tensor_slices((X_test_multiclass, y_test_multiclass))\n"
   ]
  },
  {
   "cell_type": "code",
   "execution_count": 13,
   "id": "44cc10cf",
   "metadata": {},
   "outputs": [],
   "source": [
    "\n",
    "BATCH_SIZE = 32\n",
    "train_multiclass = train_multiclass.batch(BATCH_SIZE)\n",
    "test_multiclass = test_multiclass.batch(BATCH_SIZE)\n"
   ]
  },
  {
   "cell_type": "code",
   "execution_count": 15,
   "id": "ea309a8b",
   "metadata": {},
   "outputs": [],
   "source": [
    "model3 = Sequential([\n",
    "    Conv2D(32, (3, 3), activation='relu', input_shape=(32, 32, 3)),\n",
    "    MaxPooling2D((2, 2)),\n",
    "    Conv2D(64, (3, 3), activation='relu'),\n",
    "    Flatten(),\n",
    "    Dense(64, activation='relu'),\n",
    "    Dense(4, activation='softmax')  # 4 output units for 4 classes, 'softmax' activation\n",
    "])\n",
    "\n",
    "# Compile the model with appropriate settings for multiclass classification\n",
    "model3.compile(optimizer='adam', loss='categorical_crossentropy', metrics=['accuracy'])\n"
   ]
  },
  {
   "cell_type": "code",
   "execution_count": 16,
   "id": "2f9f112e",
   "metadata": {},
   "outputs": [
    {
     "name": "stdout",
     "output_type": "stream",
     "text": [
      "Epoch 1/15\n",
      "738/738 [==============================] - 13s 17ms/step - loss: 2.1322 - accuracy: 0.8123\n",
      "Epoch 2/15\n",
      "738/738 [==============================] - 12s 16ms/step - loss: 0.5145 - accuracy: 0.8367\n",
      "Epoch 3/15\n",
      "738/738 [==============================] - 11s 15ms/step - loss: 0.4753 - accuracy: 0.8446\n",
      "Epoch 4/15\n",
      "738/738 [==============================] - 12s 16ms/step - loss: 0.4398 - accuracy: 0.8524\n",
      "Epoch 5/15\n",
      "738/738 [==============================] - 11s 15ms/step - loss: 0.4191 - accuracy: 0.8566\n",
      "Epoch 6/15\n",
      "738/738 [==============================] - 11s 15ms/step - loss: 0.4046 - accuracy: 0.8577\n",
      "Epoch 7/15\n",
      "738/738 [==============================] - 11s 15ms/step - loss: 0.3763 - accuracy: 0.8667\n",
      "Epoch 8/15\n",
      "738/738 [==============================] - 11s 15ms/step - loss: 0.3536 - accuracy: 0.8744\n",
      "Epoch 9/15\n",
      "738/738 [==============================] - 12s 16ms/step - loss: 0.3376 - accuracy: 0.8772\n",
      "Epoch 10/15\n",
      "738/738 [==============================] - 11s 15ms/step - loss: 0.3332 - accuracy: 0.8803\n",
      "Epoch 11/15\n",
      "738/738 [==============================] - 11s 15ms/step - loss: 0.3153 - accuracy: 0.8841\n",
      "Epoch 12/15\n",
      "738/738 [==============================] - 11s 15ms/step - loss: 0.3017 - accuracy: 0.8887\n",
      "Epoch 13/15\n",
      "738/738 [==============================] - 11s 15ms/step - loss: 0.2855 - accuracy: 0.8937\n",
      "Epoch 14/15\n",
      "738/738 [==============================] - 12s 16ms/step - loss: 0.2793 - accuracy: 0.8951\n",
      "Epoch 15/15\n",
      "738/738 [==============================] - 12s 16ms/step - loss: 0.2599 - accuracy: 0.9037\n"
     ]
    },
    {
     "data": {
      "text/plain": [
       "<keras.src.callbacks.History at 0x1e2cbaac4d0>"
      ]
     },
     "execution_count": 16,
     "metadata": {},
     "output_type": "execute_result"
    }
   ],
   "source": [
    "model3.fit(train_multiclass, epochs = 15)"
   ]
  },
  {
   "cell_type": "code",
   "execution_count": 17,
   "id": "31942d16",
   "metadata": {},
   "outputs": [
    {
     "name": "stdout",
     "output_type": "stream",
     "text": [
      "185/185 [==============================] - 1s 4ms/step\n"
     ]
    }
   ],
   "source": [
    "# Get class labels as integers\n",
    "preds3 = np.argmax(model3.predict(test_multiclass), axis=1)\n"
   ]
  },
  {
   "cell_type": "code",
   "execution_count": 19,
   "id": "36e600d3",
   "metadata": {},
   "outputs": [
    {
     "data": {
      "image/png": "[encoded data removed]",
      "text/plain": [
       "<Figure size 600x600 with 2 Axes>"
      ]
     },
     "metadata": {},
     "output_type": "display_data"
    }
   ],
   "source": [
    "cm = confusion_matrix(y_test_multiclass, preds3)\n",
    "\n",
    "# Create a heatmap using Seaborn\n",
    "sns.set(font_scale=1.2)  # Adjust font size for better readability\n",
    "plt.figure(figsize=(6, 6))  # Set the size of the plot\n",
    "sns.heatmap(cm, annot=True, fmt='d', cmap='Blues', square=True,\n",
    "            xticklabels=['Non-Pothole', 'Pothole'], yticklabels=['Non-Pothole', 'Pothole'])\n",
    "\n",
    "# Add labels and title\n",
    "plt.xlabel('Predicted')\n",
    "plt.ylabel('Actual')\n",
    "plt.title('Confusion Matrix')\n",
    "\n",
    "# Display the plot\n",
    "plt.show()"
   ]
  },
  {
   "cell_type": "markdown",
   "id": "214229ab",
   "metadata": {},
   "source": [
    "## The categorical classification approach didn't yield as strong results as its binary counterpart, and this disparity can likely be attributed to imbalances within our dataset. To address this issue and bolster the performance of our model, we're turning to the ImageDataGenerator. "
   ]
  },
  {
   "cell_type": "code",
   "execution_count": 20,
   "id": "0e95a9e4",
   "metadata": {},
   "outputs": [
    {
     "data": {
      "image/png": "[encoded data removed]",
      "text/plain": [
       "<Figure size 640x480 with 1 Axes>"
      ]
     },
     "metadata": {},
     "output_type": "display_data"
    }
   ],
   "source": [
    "# Assuming y_train_multiclass is your NumPy array\n",
    "unique_values, counts = np.unique(y_train_multiclass, return_counts=True)\n",
    "\n",
    "# Create a bar chart\n",
    "plt.bar(unique_values, counts)\n",
    "\n",
    "# Add labels and a title\n",
    "plt.xlabel('Unique Values')\n",
    "plt.ylabel('Counts')\n",
    "plt.title('Counts of Unique Values in y_train_multiclass')\n",
    "\n",
    "# Show the plot\n",
    "plt.show()\n"
   ]
  },
  {
   "cell_type": "code",
   "execution_count": 21,
   "id": "73f0e50d",
   "metadata": {},
   "outputs": [],
   "source": [
    "# Calculate the target number of samples for each class (e.g., make them all equal)\n",
    "value_counts = df[df['Number of Potholes'] < 4]['Number of Potholes'].value_counts()\n",
    "\n",
    "target_samples = max(value_counts)\n",
    "\n",
    "# Create empty lists to store oversampled data\n",
    "X_oversampled_multiclass = []\n",
    "y_oversampled_multiclass = []\n",
    "\n",
    "# Loop through each class\n",
    "for class_label in value_counts.index:\n",
    "    # Extract data and labels for the current class\n",
    "    class_data = X_train_multiclass[y_train_multiclass == class_label]\n",
    "    class_labels = y_train_multiclass[y_train_multiclass == class_label]\n",
    "\n",
    "    # Calculate how many additional samples are needed\n",
    "    num_additional_samples = target_samples - len(class_data)\n",
    "\n",
    "    if num_additional_samples > 0:\n",
    "        # Create an ImageDataGenerator for augmentation (you can adjust the parameters)\n",
    "        datagen = ImageDataGenerator(\n",
    "            rotation_range=30,\n",
    "            width_shift_range=0.2,\n",
    "            height_shift_range=0.2,\n",
    "            shear_range=0.2,\n",
    "            zoom_range=0.2,\n",
    "            horizontal_flip=True,\n",
    "            fill_mode='nearest'\n",
    "        )\n",
    "\n",
    "        # Generate augmented samples\n",
    "        aug_data = []\n",
    "        aug_labels = []\n",
    "        for i in range(num_additional_samples):\n",
    "            for x, y in datagen.flow(class_data, class_labels, batch_size=1):\n",
    "                aug_data.append(x[0])\n",
    "                aug_labels.append(y[0])\n",
    "                break\n",
    "\n",
    "        # Append the augmented data to the oversampled lists\n",
    "        X_oversampled_multiclass.extend(aug_data)\n",
    "        y_oversampled_multiclass.extend(aug_labels)\n",
    "\n",
    "# Convert oversampled data to NumPy arrays\n",
    "X_oversampled_multiclass = np.array(X_oversampled_multiclass)\n",
    "y_oversampled_multiclass = np.array(y_oversampled_multiclass)\n",
    "\n",
    "# Combine oversampled data with the original data (if needed)\n",
    "X_combined_multiclass = np.concatenate((X_train_multiclass, X_oversampled_multiclass), axis=0)\n",
    "y_combined_multiclass = np.concatenate((y_train_multiclass, y_oversampled_multiclass), axis=0)\n",
    "\n",
    "# Now, X_combined_multiclass and y_combined_multiclass contain the balanced dataset with oversampled underrepresented classes.\n"
   ]
  },
  {
   "cell_type": "code",
   "execution_count": 26,
   "id": "c9f9d87e",
   "metadata": {},
   "outputs": [
    {
     "name": "stdout",
     "output_type": "stream",
     "text": [
      "Shape of y_test_categorical: (5897, 4)\n",
      "First few entries of y_test_categorical: [[1. 0. 0. 0.]\n",
      " [1. 0. 0. 0.]\n",
      " [0. 1. 0. 0.]\n",
      " [1. 0. 0. 0.]\n",
      " [1. 0. 0. 0.]]\n",
      "Shape of y_train_categorical: (87140, 4)\n",
      "First few entries of y_train_categorical: [[0. 1. 0. 0.]\n",
      " [1. 0. 0. 0.]\n",
      " [1. 0. 0. 0.]\n",
      " [1. 0. 0. 0.]\n",
      " [0. 1. 0. 0.]]\n"
     ]
    }
   ],
   "source": [
    "y_test_categorical = to_categorical(y_test_multiclass)\n",
    "#Print information about the converted test labels\n",
    "print(\"Shape of y_test_categorical:\", y_test_categorical.shape)\n",
    "print(\"First few entries of y_test_categorical:\", y_test_categorical[:5])\n",
    "\n",
    "y_train_categorical = to_categorical(y_combined_multiclass)\n",
    "# Print information about the converted training labels\n",
    "print(\"Shape of y_train_categorical:\", y_train_categorical.shape)\n",
    "print(\"First few entries of y_train_categorical:\", y_train_categorical[:5])"
   ]
  },
  {
   "cell_type": "code",
   "execution_count": 24,
   "id": "646b3b82",
   "metadata": {},
   "outputs": [
    {
     "data": {
      "image/png": "[encoded data removed]",
      "text/plain": [
       "<Figure size 640x480 with 1 Axes>"
      ]
     },
     "metadata": {},
     "output_type": "display_data"
    }
   ],
   "source": [
    "# Assuming y_train_multiclass is your NumPy array\n",
    "unique_values, counts = np.unique(y_combined_multiclass, return_counts=True)\n",
    "\n",
    "# Create a bar chart\n",
    "plt.bar(unique_values, counts)\n",
    "\n",
    "# Add labels and a title\n",
    "plt.xlabel('Unique Values')\n",
    "plt.ylabel('Counts')\n",
    "plt.title('Distribution of Number Of Potholes')\n",
    "\n",
    "# Show the plot\n",
    "plt.show()\n"
   ]
  },
  {
   "cell_type": "code",
   "execution_count": 28,
   "id": "cd8ed540",
   "metadata": {},
   "outputs": [],
   "source": [
    "train_os_dataset = tf.data.Dataset.from_tensor_slices((X_combined_multiclass, y_train_categorical))\n",
    "test_os_dataset = tf.data.Dataset.from_tensor_slices((X_test_multiclass, y_test_categorical))\n",
    "\n",
    "# Choose your desired batch size\n",
    "BATCH_SIZE = 32\n",
    "train_os_dataset = train_os_dataset.batch(BATCH_SIZE)\n",
    "test_os_dataset = test_os_dataset.batch(BATCH_SIZE)\n"
   ]
  },
  {
   "cell_type": "code",
   "execution_count": 49,
   "id": "77d57b98",
   "metadata": {},
   "outputs": [],
   "source": [
    "# Define a custom F1 score metric for Keras\n",
    "class F1Score(tf.keras.metrics.Metric):\n",
    "    def __init__(self, name='f1_score', **kwargs):\n",
    "        super(F1Score, self).__init__(name=name, **kwargs)\n",
    "        self.true_positives = self.add_weight(name='true_positives', initializer='zeros')\n",
    "        self.false_positives = self.add_weight(name='false_positives', initializer='zeros')\n",
    "        self.false_negatives = self.add_weight(name='false_negatives', initializer='zeros')\n",
    "\n",
    "    def update_state(self, y_true, y_pred, sample_weight=None):\n",
    "        y_true = tf.cast(y_true, tf.float32)\n",
    "        y_pred = tf.cast(tf.round(y_pred), tf.float32)\n",
    "\n",
    "        tp = tf.reduce_sum(y_true * y_pred)\n",
    "        fp = tf.reduce_sum((1 - y_true) * y_pred)\n",
    "        fn = tf.reduce_sum(y_true * (1 - y_pred))\n",
    "\n",
    "        self.true_positives.assign_add(tp)\n",
    "        self.false_positives.assign_add(fp)\n",
    "        self.false_negatives.assign_add(fn)\n",
    "\n",
    "    def result(self):\n",
    "        precision = self.true_positives / (self.true_positives + self.false_positives + tf.keras.backend.epsilon())\n",
    "        recall = self.true_positives / (self.true_positives + self.false_negatives + tf.keras.backend.epsilon())\n",
    "        f1 = 2 * (precision * recall) / (precision + recall + tf.keras.backend.epsilon())\n",
    "        return f1\n"
   ]
  },
  {
   "cell_type": "code",
   "execution_count": 59,
   "id": "236a15a3",
   "metadata": {},
   "outputs": [
    {
     "name": "stdout",
     "output_type": "stream",
     "text": [
      "Model: \"sequential_11\"\n",
      "_________________________________________________________________\n",
      " Layer (type)                Output Shape              Param #   \n",
      "=================================================================\n",
      " conv2d_22 (Conv2D)          (None, 30, 30, 32)        896       \n",
      "                                                                 \n",
      " max_pooling2d_11 (MaxPooli  (None, 15, 15, 32)        0         \n",
      " ng2D)                                                           \n",
      "                                                                 \n",
      " conv2d_23 (Conv2D)          (None, 13, 13, 64)        18496     \n",
      "                                                                 \n",
      " flatten_11 (Flatten)        (None, 10816)             0         \n",
      "                                                                 \n",
      " dense_22 (Dense)            (None, 64)                692288    \n",
      "                                                                 \n",
      " dense_23 (Dense)            (None, 4)                 260       \n",
      "                                                                 \n",
      "=================================================================\n",
      "Total params: 711940 (2.72 MB)\n",
      "Trainable params: 711940 (2.72 MB)\n",
      "Non-trainable params: 0 (0.00 Byte)\n",
      "_________________________________________________________________\n"
     ]
    }
   ],
   "source": [
    "# Create a model for 4-class classification\n",
    "model3 = Sequential([\n",
    "    Conv2D(32, (3, 3), activation='relu', input_shape=(32, 32, 3)),\n",
    "    MaxPooling2D((2, 2)),\n",
    "    Conv2D(64, (3, 3), activation='relu'),\n",
    "    Flatten(),\n",
    "    Dense(64, activation='relu'),\n",
    "    Dense(4, activation='softmax')  # 4-class output with 'softmax' activation\n",
    "])\n",
    "\n",
    "# Compile the model with appropriate loss and metrics (using F1 score)\n",
    "model3.compile(optimizer='adam', loss='categorical_crossentropy', \n",
    "              metrics=['accuracy'])\n",
    "\n",
    "model3.summary()"
   ]
  },
  {
   "cell_type": "code",
   "execution_count": 60,
   "id": "94c98d10",
   "metadata": {
    "scrolled": true
   },
   "outputs": [
    {
     "name": "stdout",
     "output_type": "stream",
     "text": [
      "Epoch 1/15\n",
      "2724/2724 [==============================] - 44s 16ms/step - loss: 0.9074 - accuracy: 0.9366\n",
      "Epoch 2/15\n",
      "2724/2724 [==============================] - 43s 16ms/step - loss: 7.9463 - accuracy: 0.6673\n",
      "Epoch 3/15\n",
      "2724/2724 [==============================] - 43s 16ms/step - loss: 0.4452 - accuracy: 0.8465\n",
      "Epoch 4/15\n",
      "2724/2724 [==============================] - 43s 16ms/step - loss: 1.3936 - accuracy: 0.3319\n",
      "Epoch 5/15\n",
      "2724/2724 [==============================] - 45s 16ms/step - loss: 1.3394 - accuracy: 0.3567\n",
      "Epoch 6/15\n",
      "2724/2724 [==============================] - 44s 16ms/step - loss: 1.3518 - accuracy: 0.3439\n",
      "Epoch 7/15\n",
      "2724/2724 [==============================] - 43s 16ms/step - loss: 1.3550 - accuracy: 0.3411\n",
      "Epoch 8/15\n",
      "2724/2724 [==============================] - 43s 16ms/step - loss: 1.3557 - accuracy: 0.3407\n",
      "Epoch 9/15\n",
      "2724/2724 [==============================] - 43s 16ms/step - loss: 1.3559 - accuracy: 0.3404\n",
      "Epoch 10/15\n",
      "2724/2724 [==============================] - 43s 16ms/step - loss: 1.3559 - accuracy: 0.3405\n",
      "Epoch 11/15\n",
      "2724/2724 [==============================] - 43s 16ms/step - loss: 1.3559 - accuracy: 0.3405\n",
      "Epoch 12/15\n",
      "2724/2724 [==============================] - 43s 16ms/step - loss: 1.3559 - accuracy: 0.3405\n",
      "Epoch 13/15\n",
      "2724/2724 [==============================] - 43s 16ms/step - loss: 1.3559 - accuracy: 0.3405\n",
      "Epoch 14/15\n",
      "2724/2724 [==============================] - 43s 16ms/step - loss: 1.3559 - accuracy: 0.3405\n",
      "Epoch 15/15\n",
      "2724/2724 [==============================] - 43s 16ms/step - loss: 1.3559 - accuracy: 0.3405\n"
     ]
    },
    {
     "data": {
      "text/plain": [
       "<keras.src.callbacks.History at 0x1e2e654b090>"
      ]
     },
     "execution_count": 60,
     "metadata": {},
     "output_type": "execute_result"
    }
   ],
   "source": [
    "model3.fit(train_os_dataset, epochs = 15)"
   ]
  },
  {
   "cell_type": "code",
   "execution_count": 61,
   "id": "195f19c8",
   "metadata": {},
   "outputs": [
    {
     "name": "stdout",
     "output_type": "stream",
     "text": [
      "185/185 [==============================] - 1s 4ms/step\n"
     ]
    },
    {
     "data": {
      "image/png": "[encoded data removed]",
      "text/plain": [
       "<Figure size 600x600 with 2 Axes>"
      ]
     },
     "metadata": {},
     "output_type": "display_data"
    }
   ],
   "source": [
    "preds3 = np.argmax(model3.predict(test_os_dataset), axis=1)\n",
    "\n",
    "# Assuming you have already computed the 'cm' confusion matrix\n",
    "# Define labels for your classes\n",
    "class_labels = [\"0 potholes\", \"1 pothole\", \"2 potholes\", \"3 potholes\"]\n",
    "cm = confusion_matrix(y_test_multiclass, preds3)\n",
    "# Create a heatmap using Seaborn with the updated class labels\n",
    "sns.set(font_scale=1.2)  # Adjust font size for better readability\n",
    "plt.figure(figsize=(6, 6))  # Set the size of the plot\n",
    "sns.heatmap(cm, annot=True, fmt='d', cmap='Blues', square=True,\n",
    "            xticklabels=class_labels, yticklabels=class_labels)\n",
    "\n",
    "# Add labels and title\n",
    "plt.xlabel('Predicted')\n",
    "plt.ylabel('Actual')\n",
    "plt.title('Confusion Matrix')\n",
    "\n",
    "# Display the plot\n",
    "plt.show()\n"
   ]
  },
  {
   "cell_type": "markdown",
   "id": "fce301a5",
   "metadata": {},
   "source": [
    "## Now that we've achieved improved results through oversampling our data, we're ready to progress to the next stage of our project. The enhanced dataset, which balances the class distribution, has allowed us to address class imbalance issues effectively. With this more balanced data, we can confidently advance to the next step, which involves feeding it into a more complex and sophisticated machine learning model. This upgraded model will have the capacity to capture intricate patterns and relationships within our data, further enhancing our ability to make accurate predictions and classifications."
   ]
  },
  {
   "cell_type": "code",
   "execution_count": null,
   "id": "79765147",
   "metadata": {},
   "outputs": [],
   "source": [
    "def create_cnn_model(input_shape, num_classes, learning_rate=0.001, num_filters=32):\n",
    "    model = Sequential()\n",
    "\n",
    "    # Rescaling layer to scale input features (image pixels)\n",
    "    model.add(tf.keras.layers.experimental.preprocessing.Rescaling(1.0 / 255, input_shape=input_shape))\n",
    "\n",
    "    # Convolutional Layer 1\n",
    "    model.add(Conv2D(num_filters, kernel_size=(3, 3), activation='relu'))\n",
    "    # conv (no activation), then batch_norm, then activation\n",
    "    model.add(MaxPooling2D(pool_size=(2, 2)))\n",
    "\n",
    "    # Convolutional Layer 2\n",
    "    model.add(Conv2D(num_filters * 2, kernel_size=(3, 3), activation='relu'))\n",
    "    model.add(MaxPooling2D(pool_size=(2, 2)))\n",
    "\n",
    "    # Convolutional Layer 3\n",
    "    model.add(Conv2D(num_filters * 4, kernel_size=(3, 3), activation='relu'))\n",
    "    model.add(MaxPooling2D(pool_size=(2, 2)))\n",
    "\n",
    "    # Fully Connected Layer\n",
    "    model.add(Flatten())\n",
    "    model.add(Dense(512, activation='relu'))\n",
    "    model.add(Dropout(0.5))\n",
    "\n",
    "    # Output Layer for Multi-Class Classification\n",
    "    model.add(Dense(num_classes, activation='softmax'))  # Number of classes\n",
    "\n",
    "    # Compile the model with categorical cross-entropy for multi-class classification\n",
    "    model.compile(\n",
    "        optimizer=Adam(learning_rate=learning_rate),\n",
    "        loss='categorical_crossentropy',\n",
    "        metrics=['accuracy']\n",
    "    )\n",
    "\n",
    "    return model\n",
    "\n",
    "# Example usage for multi-class classification:\n",
    "input_shape = (32, 32, 3)  # 3 for RGB\n",
    "num_classes = 4  # Change this to the number of classes in your dataset\n",
    "model4 = create_cnn_model(input_shape, num_classes)\n",
    "model4.summary()\n"
   ]
  },
  {
   "cell_type": "code",
   "execution_count": null,
   "id": "2ddfe360",
   "metadata": {},
   "outputs": [],
   "source": [
    "model4.fit(train_os_dataset, epochs = 20)"
   ]
  },
  {
   "cell_type": "code",
   "execution_count": null,
   "id": "5636714b",
   "metadata": {},
   "outputs": [],
   "source": [
    "preds4 = np.argmax(model3.predict(test_os_dataset), axis=1)\n",
    "# Assuming you have already computed the 'cm' confusion matrix\n",
    "# Define labels for your classes\n",
    "class_labels = [\"0 potholes\", \"1 pothole\", \"2 potholes\", \"3 potholes\"]\n",
    "cm = confusion_matrix(y_test_multiclass, preds4)\n",
    "# Create a heatmap using Seaborn with the updated class labels\n",
    "sns.set(font_scale=1.2)  # Adjust font size for better readability\n",
    "plt.figure(figsize=(6, 6))  # Set the size of the plot\n",
    "sns.heatmap(cm, annot=True, fmt='d', cmap='Blues', square=True,\n",
    "            xticklabels=class_labels, yticklabels=class_labels)\n",
    "\n",
    "# Add labels and title\n",
    "plt.xlabel('Predicted')\n",
    "plt.ylabel('Actual')\n",
    "plt.title('Confusion Matrix')\n",
    "\n",
    "# Display the plot\n",
    "plt.show()\n"
   ]
  },
  {
   "cell_type": "markdown",
   "id": "7bd4c3db",
   "metadata": {},
   "source": [
    "## We've achieved promising results with our most recent model. To maintain our momentum, we've decided to focus on refining the first convolutional layer by introducing batch normalization before applying the activation function."
   ]
  },
  {
   "cell_type": "code",
   "execution_count": null,
   "id": "929140a5",
   "metadata": {},
   "outputs": [],
   "source": [
    "def create_cnn_model(input_shape, scoring_metric, num_classes, learning_rate=0.001, num_filters=32):\n",
    "    model = Sequential()\n",
    "\n",
    "    # Rescaling layer to scale input features (image pixels)\n",
    "    model.add(tf.keras.layers.experimental.preprocessing.Rescaling(1.0 / 255, input_shape=input_shape))\n",
    "\n",
    "    # Convolutional Layer 1 with no activation at first, then batch_norm, and activation\n",
    "    model.add(Conv2D(num_filters, kernel_size=(3, 3), padding='same'))  # No activation\n",
    "    model.add(BatchNormalization())\n",
    "    model.add(tf.keras.layers.Activation('relu'))\n",
    "    model.add(MaxPooling2D(pool_size=(2, 2)))\n",
    "\n",
    "    # Convolutional Layer 2\n",
    "    model.add(Conv2D(num_filters * 2, kernel_size=(3, 3), activation='relu'))\n",
    "    model.add(MaxPooling2D(pool_size=(2, 2)))\n",
    "\n",
    "    # Convolutional Layer 3\n",
    "    model.add(Conv2D(num_filters * 4, kernel_size=(3, 3), activation='relu'))\n",
    "    model.add(MaxPooling2D(pool_size=(2, 2)))\n",
    "\n",
    "    # Fully Connected Layer\n",
    "    model.add(Flatten())\n",
    "    model.add(Dense(512, activation='relu'))\n",
    "    model.add(Dropout(0.5))\n",
    "\n",
    "    # Output Layer for Multi-Class Classification\n",
    "    model.add(Dense(num_classes, activation='softmax'))  # Number of classes\n",
    "\n",
    "    # Compile the model with categorical cross-entropy for multi-class classification\n",
    "    model.compile(\n",
    "        optimizer=Adam(learning_rate=learning_rate),\n",
    "        loss='categorical_crossentropy',\n",
    "        metrics=[scoring_metric]\n",
    "    )\n",
    "\n",
    "    return model\n",
    "\n",
    "# Example usage for multi-class classification:\n",
    "scoring_metric = 'accuracy'\n",
    "input_shape = (32, 32, 3)  # 3 for RGB\n",
    "num_classes = 4  # Change this to the number of classes in your dataset\n",
    "model5 = create_cnn_model(input_shape, scoring_metric, num_classes)\n",
    "\n",
    "model5.summary()\n",
    "\n"
   ]
  },
  {
   "cell_type": "code",
   "execution_count": null,
   "id": "996671ac",
   "metadata": {},
   "outputs": [],
   "source": [
    "model5.fit(train_os_dataset, epochs = 20)"
   ]
  },
  {
   "cell_type": "code",
   "execution_count": null,
   "id": "46df592a",
   "metadata": {},
   "outputs": [],
   "source": [
    "preds5 = np.argmax(model4.predict(test_os_dataset), axis=1)\n",
    "# Assuming you have already computed the 'cm' confusion matrix\n",
    "# Define labels for your classes\n",
    "class_labels = [\"0 potholes\", \"1 pothole\", \"2 potholes\", \"3 potholes\"]\n",
    "cm = confusion_matrix(y_test_multiclass, preds5)\n",
    "# Create a heatmap using Seaborn with the updated class labels\n",
    "sns.set(font_scale=1.2)  # Adjust font size for better readability\n",
    "plt.figure(figsize=(6, 6))  # Set the size of the plot\n",
    "sns.heatmap(cm, annot=True, fmt='d', cmap='Blues', square=True,\n",
    "            xticklabels=class_labels, yticklabels=class_labels)\n",
    "\n",
    "# Add labels and title\n",
    "plt.xlabel('Predicted')\n",
    "plt.ylabel('Actual')\n",
    "plt.title('Confusion Matrix')\n",
    "\n",
    "# Display the plot\n",
    "plt.show()\n"
   ]
  },
  {
   "cell_type": "code",
   "execution_count": null,
   "id": "3a8ff834",
   "metadata": {},
   "outputs": [],
   "source": []
  },
  {
   "cell_type": "code",
   "execution_count": null,
   "id": "bed53426",
   "metadata": {},
   "outputs": [],
   "source": [
    "# Example usage for multi-class classification:\n",
    "scoring_metric = 'accuracy'\n",
    "input_shape = (32, 32, 3)  # 3 for RGB\n",
    "num_classes = 4  # Change this to the number of classes in your dataset\n",
    "model6 = create_cnn_model(input_shape, scoring_metric, num_classes, num_filters=16)\n",
    "\n",
    "model6.summary()\n",
    "\n",
    "model6.fit(train_os_dataset, epochs = 100)\n",
    "\n",
    "preds6 = np.argmax(model6.predict(test_os_dataset), axis=1)\n",
    "# Assuming you have already computed the 'cm' confusion matrix\n",
    "# Define labels for your classes\n",
    "class_labels = [\"0 potholes\", \"1 pothole\", \"2 potholes\", \"3 potholes\"]\n",
    "cm = confusion_matrix(y_test_os, preds6)\n",
    "# Create a heatmap using Seaborn with the updated class labels\n",
    "sns.set(font_scale=1.2)  # Adjust font size for better readability\n",
    "plt.figure(figsize=(6, 6))  # Set the size of the plot\n",
    "sns.heatmap(cm, annot=True, fmt='d', cmap='Blues', square=True,\n",
    "            xticklabels=class_labels, yticklabels=class_labels)\n",
    "\n",
    "# Add labels and title\n",
    "plt.xlabel('Predicted')\n",
    "plt.ylabel('Actual')\n",
    "plt.title('Confusion Matrix')\n",
    "\n",
    "# Display the plot\n",
    "plt.show()"
   ]
  },
  {
   "cell_type": "code",
   "execution_count": null,
   "id": "314619aa",
   "metadata": {},
   "outputs": [],
   "source": [
    "# Example usage for multi-class classification:\n",
    "scoring_metric = 'accuracy'\n",
    "input_shape = (32, 32, 3)  # 3 for RGB\n",
    "num_classes = 4  # Change this to the number of classes in your dataset\n",
    "num_filters = 32\n",
    "model7 = create_cnn_model(input_shape, scoring_metric, num_classes, num_filters = num_filters)\n",
    "\n",
    "model7.summary()\n",
    "\n",
    "model7.fit(train_os_dataset, epochs = 100)\n",
    "\n",
    "preds7 = np.argmax(model7.predict(test_os_dataset), axis=1)\n",
    "# Assuming you have already computed the 'cm' confusion matrix\n",
    "# Define labels for your classes\n",
    "class_labels = [\"0 potholes\", \"1 pothole\", \"2 potholes\", \"3 potholes\"]\n",
    "cm = confusion_matrix(y_test_os, preds7)\n",
    "# Create a heatmap using Seaborn with the updated class labels\n",
    "sns.set(font_scale=1.2)  # Adjust font size for better readability\n",
    "plt.figure(figsize=(6, 6))  # Set the size of the plot\n",
    "sns.heatmap(cm, annot=True, fmt='d', cmap='Blues', square=True,\n",
    "            xticklabels=class_labels, yticklabels=class_labels)\n",
    "\n",
    "# Add labels and title\n",
    "plt.xlabel('Predicted')\n",
    "plt.ylabel('Actual')\n",
    "plt.title('Confusion Matrix')\n",
    "\n",
    "# Display the plot\n",
    "plt.show()"
   ]
  },
  {
   "cell_type": "code",
   "execution_count": null,
   "id": "e809271c",
   "metadata": {},
   "outputs": [],
   "source": [
    "# Example usage for multi-class classification:\n",
    "scoring_metric = 'accuracy'\n",
    "input_shape = (32, 32, 3)  # 3 for RGB\n",
    "num_classes = 4  # Change this to the number of classes in your dataset\n",
    "num_filters = 64\n",
    "model7 = create_cnn_model(input_shape, scoring_metric, num_classes, num_filters = num_filters)\n",
    "\n",
    "model7.summary()\n",
    "\n",
    "model7.fit(train_os_dataset, epochs = 100)\n",
    "\n",
    "preds7 = np.argmax(model7.predict(test_os_dataset), axis=1)\n",
    "# Assuming you have already computed the 'cm' confusion matrix\n",
    "# Define labels for your classes\n",
    "class_labels = [\"0 potholes\", \"1 pothole\", \"2 potholes\", \"3 potholes\"]\n",
    "cm = confusion_matrix(y_test_os, preds7)\n",
    "# Create a heatmap using Seaborn with the updated class labels\n",
    "sns.set(font_scale=1.2)  # Adjust font size for better readability\n",
    "plt.figure(figsize=(6, 6))  # Set the size of the plot\n",
    "sns.heatmap(cm, annot=True, fmt='d', cmap='Blues', square=True,\n",
    "            xticklabels=class_labels, yticklabels=class_labels)\n",
    "\n",
    "# Add labels and title\n",
    "plt.xlabel('Predicted')\n",
    "plt.ylabel('Actual')\n",
    "plt.title('Confusion Matrix')\n",
    "\n",
    "# Display the plot\n",
    "plt.show()"
   ]
  },
  {
   "cell_type": "code",
   "execution_count": null,
   "id": "b42ee0a9",
   "metadata": {},
   "outputs": [],
   "source": [
    "# Example usage for multi-class classification:\n",
    "scoring_metric = 'accuracy'\n",
    "input_shape = (32, 32, 3)  # 3 for RGB\n",
    "num_classes = 4  # Change this to the number of classes in your dataset\n",
    "num_filters = 128\n",
    "model8 = create_cnn_model(input_shape, scoring_metric, num_classes, num_filters = num_filters)\n",
    "\n",
    "model8.summary()\n",
    "\n",
    "model8.fit(train_os_dataset, epochs = 100)\n",
    "\n",
    "preds8 = np.argmax(model8.predict(test_os_dataset), axis=1)\n",
    "# Assuming you have already computed the 'cm' confusion matrix\n",
    "# Define labels for your classes\n",
    "class_labels = [\"0 potholes\", \"1 pothole\", \"2 potholes\", \"3 potholes\"]\n",
    "cm = confusion_matrix(y_test_os, preds)\n",
    "# Create a heatmap using Seaborn with the updated class labels\n",
    "sns.set(font_scale=1.2)  # Adjust font size for better readability\n",
    "plt.figure(figsize=(6, 6))  # Set the size of the plot\n",
    "sns.heatmap(cm, annot=True, fmt='d', cmap='Blues', square=True,\n",
    "            xticklabels=class_labels, yticklabels=class_labels)\n",
    "\n",
    "# Add labels and title\n",
    "plt.xlabel('Predicted')\n",
    "plt.ylabel('Actual')\n",
    "plt.title('Confusion Matrix')\n",
    "\n",
    "# Display the plot\n",
    "plt.show()"
   ]
  },
  {
   "cell_type": "code",
   "execution_count": null,
   "id": "a9c6d3ce",
   "metadata": {},
   "outputs": [],
   "source": [
    "# Assuming you have a list of model names and corresponding predictions\n",
    "model_names = ['model3', 'model4', 'model5', 'model6', 'model7', 'model8']\n",
    "predictions = {\n",
    "    'model3': preds3,\n",
    "    'model4': preds4,\n",
    "    'model5': preds5,\n",
    "    'model6': preds6,\n",
    "    'model7': preds7,\n",
    "    'model8': preds8\n",
    "}\n",
    "\n",
    "# Function to calculate performance metrics\n",
    "def calculate_metrics(actual, predicted):\n",
    "    accuracy = accuracy_score(actual, predicted)\n",
    "    precision = precision_score(actual, predicted, average='weighted')\n",
    "    recall = recall_score(actual, predicted, average='weighted')\n",
    "    return accuracy, precision, recall\n",
    "\n",
    "# Create a list to store model performance data\n",
    "model_performance_data = []\n",
    "\n",
    "# Simulate evaluation over time\n",
    "num_days = 30\n",
    "date_today = datetime.now()\n",
    "date_list = [date_today - timedelta(days=x) for x in range(num_days)]\n",
    "\n",
    "for model_name in model_names:\n",
    "    for date in date_list:\n",
    "        # Get predictions for the model\n",
    "        model_predictions = predictions[model_name]\n",
    "\n",
    "        # Calculate performance metrics\n",
    "        accuracy, precision, recall = calculate_metrics(y_test_os, model_predictions)\n",
    "\n",
    "        # Append data to the list\n",
    "        model_performance_data.append({\n",
    "            'Date': date,\n",
    "            'Model': model_name,\n",
    "            'Accuracy': accuracy,\n",
    "            'Precision': precision,\n",
    "            'Recall': recall\n",
    "        })\n",
    "\n",
    "# Create a DataFrame from the list\n",
    "model_performance = pd.DataFrame(model_performance_data)\n",
    "\n",
    "# Sorting the DataFrame by date\n",
    "model_performance = model_performance.sort_values(by=['Model', 'Date']).reset_index(drop=True)\n",
    "\n",
    "model_performance\n"
   ]
  },
  {
   "cell_type": "code",
   "execution_count": null,
   "id": "707be629",
   "metadata": {},
   "outputs": [],
   "source": []
  },
  {
   "cell_type": "code",
   "execution_count": null,
   "id": "c518c5c5",
   "metadata": {},
   "outputs": [],
   "source": []
  },
  {
   "cell_type": "code",
   "execution_count": null,
   "id": "01b35071",
   "metadata": {},
   "outputs": [],
   "source": []
  },
  {
   "cell_type": "code",
   "execution_count": null,
   "id": "9ba92991",
   "metadata": {},
   "outputs": [],
   "source": []
  }
 ],
 "metadata": {
  "kernelspec": {
   "display_name": "Python 3 (ipykernel)",
   "language": "python",
   "name": "python3"
  },
  "language_info": {
   "codemirror_mode": {
    "name": "ipython",
    "version": 3
   },
   "file_extension": ".py",
   "mimetype": "text/x-python",
   "name": "python",
   "nbconvert_exporter": "python",
   "pygments_lexer": "ipython3",
   "version": "3.11.3"
  }
 },
 "nbformat": 4,
 "nbformat_minor": 5
}
